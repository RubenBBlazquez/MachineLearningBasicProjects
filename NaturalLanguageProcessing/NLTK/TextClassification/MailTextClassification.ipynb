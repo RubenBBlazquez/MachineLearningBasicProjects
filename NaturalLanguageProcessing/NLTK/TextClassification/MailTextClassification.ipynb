{
 "cells": [
  {
   "cell_type": "code",
   "execution_count": 14,
   "metadata": {
    "collapsed": true
   },
   "outputs": [],
   "source": [
    "import nltk\n",
    "from email.parser import BytesParser\n",
    "from email import policy"
   ]
  },
  {
   "cell_type": "code",
   "execution_count": 15,
   "outputs": [],
   "source": [
    "spam1 = open(r'../DownloadedSpamMails/spam_eurorail.eml', 'rb')\n",
    "spam2 = open(r'../DownloadedSpamMails/spam_aliexpress.eml', 'rb')\n",
    "spam3 = open(r'../DownloadedSpamMails/spam_ebay.eml', 'rb')\n",
    "spam4 = open(r'../DownloadedSpamMails/spam_sony.eml', 'rb')"
   ],
   "metadata": {
    "collapsed": false
   }
  },
  {
   "cell_type": "code",
   "execution_count": 16,
   "outputs": [],
   "source": [
    "msg = BytesParser(policy=policy.default).parse(spam1)"
   ],
   "metadata": {
    "collapsed": false
   }
  },
  {
   "cell_type": "code",
   "execution_count": 17,
   "outputs": [],
   "source": [
    "text = msg.get_body(preferencelist='plain').get_content()"
   ],
   "metadata": {
    "collapsed": false
   }
  },
  {
   "cell_type": "code",
   "execution_count": 18,
   "outputs": [
    {
     "data": {
      "text/plain": "'Are you 18 and waiting to go on the Interrail trip?\\nView in browser\\nPASSES\\xa0|\\xa0OFFERS\\xa0|\\xa0PLAN YOUR TRIP\\xa0|\\xa0RESERVATIONS\\nDISCOVER EUROPE FOR FREE\\nAre you 18 and waiting to go on the Interrail trip you’ve always dreamed of? Now’s your chance! DiscoverEU is back with 35,000 free rail passes up for grabs!\\n                      \\n\\nThe EU initiative gives young Europeans the opportunity to discover Europe through learning experiences. All you have to do is apply by answering a 5-question quiz about the EU as well as a subsidiary question. If you are selected, you will receive a travel pass valid for up to 30 days to explore Europe between 15 June 2023 and 30 September 2024.\\n                    \\n\\nNote: to be eligible, you need to be a citizen of one of the EU Member States or Iceland, Liechtenstein, North Macedonia, Norway, Serbia or Türkiye, or legally reside in one of those countries. And you need to be born between 1 July 2004 and 30 June 2005.\\n                    \\n\\nApplications will be open until Wednesday 29 March 2023, 12:00. Don’t miss out! Visit the European Youth Portal to find out more.\\n\\n                    \\n\\n                    \\n\\n                    \\n                    \\n                      APPLY NOW\\n                    \\n                  \\nYou have received this email as we think it might be of use to you after browsing our website or placing an order with us. If you would prefer not to receive similar communications in the future, please unsubscribe.\\nHas recibido este correo electrónico porque pensamos que puede serte útil después de haber navegado por nuestra página web o haber realizado un pedido con nosotros. Si prefieres no recibir comunicaciones similares en el futuro, cancela la suscripción.\\nHai ricevuto questa e-mail perché riteniamo che potrebbe esserti utile dopo aver visitato il nostro sito web o aver effettuato un ordine con noi. Se non vuoi ricevere comunicazioni simili in futuro, annulla l&#39;iscrizione.\\nVous recevez cet e-mail parce qu&#39;il pourrait vous être utile après avoir consulté notre site Web ou passé votre commande. Si vous préférez ne plus recevoir ce type de message, veuillez vous désinscrire.\\nJe ontvangt dit e-mailbericht omdat het nuXg voor je zou kunnen zijn na je bezoek aan onze website of het plaatsen van een bestelling. Wil je in de toekomst geen soortgelijke berichten meer ontvangen, afmelden.\\nDu hast diese E-Mail erhalten, weil sie dir vielleicht im Anschluss an die Suche auf unserer Webseite oder einer Bestellung bei uns nützlich sein kann. Wenn du künftig lieber keine derartigen Nachrichten erhalten möchtest, kannst du dich abmelden.\\nView in browser\\nUnsubscribe\\xa0 | \\xa0View in browser\\n\\n                      \\xa0\\xa0\\n                      \\xa0\\xa0\\n                      \\xa0\\xa0\\n                      \\xa0\\xa0\\n                      \\n                    \\nCustomer Service\\ninterrail.eu\\nP.O. Box 2338, 3500 Utrecht, The Netherlands\\n'"
     },
     "execution_count": 18,
     "metadata": {},
     "output_type": "execute_result"
    }
   ],
   "source": [
    "text"
   ],
   "metadata": {
    "collapsed": false
   }
  },
  {
   "cell_type": "markdown",
   "source": [
    "## Now we create tokens"
   ],
   "metadata": {
    "collapsed": false
   }
  },
  {
   "cell_type": "code",
   "execution_count": 19,
   "outputs": [
    {
     "name": "stdout",
     "output_type": "stream",
     "text": [
      "['are', 'you', 'and', 'waiting', 'to', 'go', 'on', 'the', 'interrail', 'trip', 'view', 'in', 'browser', 'passes', 'offers', 'plan', 'your', 'trip', 'reservations', 'discover', 'europe', 'for', 'free', 'are', 'you', 'and', 'waiting', 'to', 'go', 'on', 'the', 'interrail', 'trip', 'you', 've', 'always', 'dreamed', 'of', 'now', 's', 'your', 'chance', 'discovereu', 'is', 'back', 'with', 'free', 'rail', 'passes', 'up', 'for', 'grabs', 'the', 'eu', 'initiative', 'gives', 'young', 'europeans', 'the', 'opportunity', 'to', 'discover', 'europe', 'through', 'learning', 'experiences', 'all', 'you', 'have', 'to', 'do', 'is', 'apply', 'by', 'answering', 'a', 'quiz', 'about', 'the', 'eu', 'as', 'well', 'as', 'a', 'subsidiary', 'question', 'if', 'you', 'are', 'selected', 'you', 'will', 'receive', 'a', 'travel', 'pass', 'valid', 'for', 'up', 'to', 'days', 'to', 'explore', 'europe', 'between', 'june', 'and', 'september', 'note', 'to', 'be', 'eligible', 'you', 'need', 'to', 'be', 'a', 'citizen', 'of', 'one', 'of', 'the', 'eu', 'member', 'states', 'or', 'iceland', 'liechtenstein', 'north', 'macedonia', 'norway', 'serbia', 'or', 'türkiye', 'or', 'legally', 'reside', 'in', 'one', 'of', 'those', 'countries', 'and', 'you', 'need', 'to', 'be', 'born', 'between', 'july', 'and', 'june', 'applications', 'will', 'be', 'open', 'until', 'wednesday', 'march', 'don', 't', 'miss', 'out', 'visit', 'the', 'european', 'youth', 'portal', 'to', 'find', 'out', 'more', 'apply', 'now', 'you', 'have', 'received', 'this', 'email', 'as', 'we', 'think', 'it', 'might', 'be', 'of', 'use', 'to', 'you', 'after', 'browsing', 'our', 'website', 'or', 'placing', 'an', 'order', 'with', 'us', 'if', 'you', 'would', 'prefer', 'not', 'to', 'receive', 'similar', 'communications', 'in', 'the', 'future', 'please', 'unsubscribe', 'has', 'recibido', 'este', 'correo', 'electrónico', 'porque', 'pensamos', 'que', 'puede', 'serte', 'útil', 'después', 'de', 'haber', 'navegado', 'por', 'nuestra', 'página', 'web', 'o', 'haber', 'realizado', 'un', 'pedido', 'con', 'nosotros', 'si', 'prefieres', 'no', 'recibir', 'comunicaciones', 'similares', 'en', 'el', 'futuro', 'cancela', 'la', 'suscripción', 'hai', 'ricevuto', 'questa', 'perché', 'riteniamo', 'che', 'potrebbe', 'esserti', 'utile', 'dopo', 'aver', 'visitato', 'il', 'nostro', 'sito', 'web', 'o', 'aver', 'effettuato', 'un', 'ordine', 'con', 'noi', 'se', 'non', 'vuoi', 'ricevere', 'comunicazioni', 'simili', 'in', 'futuro', 'annulla', 'l', 'iscrizione', 'vous', 'recevez', 'cet', 'parce', 'qu', 'il', 'pourrait', 'vous', 'être', 'utile', 'après', 'avoir', 'consulté', 'notre', 'site', 'web', 'ou', 'passé', 'votre', 'commande', 'si', 'vous', 'préférez', 'ne', 'plus', 'recevoir', 'ce', 'type', 'de', 'message', 'veuillez', 'vous', 'désinscrire', 'je', 'ontvangt', 'dit', 'omdat', 'het', 'nuxg', 'voor', 'je', 'zou', 'kunnen', 'zijn', 'na', 'je', 'bezoek', 'aan', 'onze', 'website', 'of', 'het', 'plaatsen', 'van', 'een', 'bestelling', 'wil', 'je', 'in', 'de', 'toekomst', 'geen', 'soortgelijke', 'berichten', 'meer', 'ontvangen', 'afmelden', 'du', 'hast', 'diese', 'erhalten', 'weil', 'sie', 'dir', 'vielleicht', 'im', 'anschluss', 'an', 'die', 'suche', 'auf', 'unserer', 'webseite', 'oder', 'einer', 'bestellung', 'bei', 'uns', 'nützlich', 'sein', 'kann', 'wenn', 'du', 'künftig', 'lieber', 'keine', 'derartigen', 'nachrichten', 'erhalten', 'möchtest', 'kannst', 'du', 'dich', 'abmelden', 'view', 'in', 'browser', 'unsubscribe', 'view', 'in', 'browser', 'customer', 'service', 'box', 'utrecht', 'the', 'netherlands']\n"
     ]
    }
   ],
   "source": [
    "from nltk.tokenize import word_tokenize\n",
    "\n",
    "tokens = word_tokenize(text, 'english')\n",
    "tokens = [word.lower() for word in tokens if word.isalpha()]\n",
    "\n",
    "print(tokens)"
   ],
   "metadata": {
    "collapsed": false
   }
  },
  {
   "cell_type": "markdown",
   "source": [
    "## Now we verify the word frequency"
   ],
   "metadata": {
    "collapsed": false
   }
  },
  {
   "cell_type": "code",
   "execution_count": 20,
   "outputs": [
    {
     "name": "stdout",
     "output_type": "stream",
     "text": [
      "are:3\n",
      "you:11\n",
      "and:5\n",
      "waiting:2\n",
      "to:12\n",
      "go:2\n",
      "on:2\n",
      "the:9\n",
      "interrail:2\n",
      "trip:3\n",
      "view:3\n",
      "in:7\n",
      "browser:3\n",
      "passes:2\n",
      "offers:1\n",
      "plan:1\n",
      "your:2\n",
      "reservations:1\n",
      "discover:2\n",
      "europe:3\n",
      "for:3\n",
      "free:2\n",
      "ve:1\n",
      "always:1\n",
      "dreamed:1\n",
      "of:6\n",
      "now:2\n",
      "s:1\n",
      "chance:1\n",
      "discovereu:1\n",
      "is:2\n",
      "back:1\n",
      "with:2\n",
      "rail:1\n",
      "up:2\n",
      "grabs:1\n",
      "eu:3\n",
      "initiative:1\n",
      "gives:1\n",
      "young:1\n",
      "europeans:1\n",
      "opportunity:1\n",
      "through:1\n",
      "learning:1\n",
      "experiences:1\n",
      "all:1\n",
      "have:2\n",
      "do:1\n",
      "apply:2\n",
      "by:1\n",
      "answering:1\n",
      "a:4\n",
      "quiz:1\n",
      "about:1\n",
      "as:3\n",
      "well:1\n",
      "subsidiary:1\n",
      "question:1\n",
      "if:2\n",
      "selected:1\n",
      "will:2\n",
      "receive:2\n",
      "travel:1\n",
      "pass:1\n",
      "valid:1\n",
      "days:1\n",
      "explore:1\n",
      "between:2\n",
      "june:2\n",
      "september:1\n",
      "note:1\n",
      "be:5\n",
      "eligible:1\n",
      "need:2\n",
      "citizen:1\n",
      "one:2\n",
      "member:1\n",
      "states:1\n",
      "or:4\n",
      "iceland:1\n",
      "liechtenstein:1\n",
      "north:1\n",
      "macedonia:1\n",
      "norway:1\n",
      "serbia:1\n",
      "türkiye:1\n",
      "legally:1\n",
      "reside:1\n",
      "those:1\n",
      "countries:1\n",
      "born:1\n",
      "july:1\n",
      "applications:1\n",
      "open:1\n",
      "until:1\n",
      "wednesday:1\n",
      "march:1\n",
      "don:1\n",
      "t:1\n",
      "miss:1\n",
      "out:2\n",
      "visit:1\n",
      "european:1\n",
      "youth:1\n",
      "portal:1\n",
      "find:1\n",
      "more:1\n",
      "received:1\n",
      "this:1\n",
      "email:1\n",
      "we:1\n",
      "think:1\n",
      "it:1\n",
      "might:1\n",
      "use:1\n",
      "after:1\n",
      "browsing:1\n",
      "our:1\n",
      "website:2\n",
      "placing:1\n",
      "an:2\n",
      "order:1\n",
      "us:1\n",
      "would:1\n",
      "prefer:1\n",
      "not:1\n",
      "similar:1\n",
      "communications:1\n",
      "future:1\n",
      "please:1\n",
      "unsubscribe:2\n",
      "has:1\n",
      "recibido:1\n",
      "este:1\n",
      "correo:1\n",
      "electrónico:1\n",
      "porque:1\n",
      "pensamos:1\n",
      "que:1\n",
      "puede:1\n",
      "serte:1\n",
      "útil:1\n",
      "después:1\n",
      "de:3\n",
      "haber:2\n",
      "navegado:1\n",
      "por:1\n",
      "nuestra:1\n",
      "página:1\n",
      "web:3\n",
      "o:2\n",
      "realizado:1\n",
      "un:2\n",
      "pedido:1\n",
      "con:2\n",
      "nosotros:1\n",
      "si:2\n",
      "prefieres:1\n",
      "no:1\n",
      "recibir:1\n",
      "comunicaciones:1\n",
      "similares:1\n",
      "en:1\n",
      "el:1\n",
      "futuro:2\n",
      "cancela:1\n",
      "la:1\n",
      "suscripción:1\n",
      "hai:1\n",
      "ricevuto:1\n",
      "questa:1\n",
      "perché:1\n",
      "riteniamo:1\n",
      "che:1\n",
      "potrebbe:1\n",
      "esserti:1\n",
      "utile:2\n",
      "dopo:1\n",
      "aver:2\n",
      "visitato:1\n",
      "il:2\n",
      "nostro:1\n",
      "sito:1\n",
      "effettuato:1\n",
      "ordine:1\n",
      "noi:1\n",
      "se:1\n",
      "non:1\n",
      "vuoi:1\n",
      "ricevere:1\n",
      "comunicazioni:1\n",
      "simili:1\n",
      "annulla:1\n",
      "l:1\n",
      "iscrizione:1\n",
      "vous:4\n",
      "recevez:1\n",
      "cet:1\n",
      "parce:1\n",
      "qu:1\n",
      "pourrait:1\n",
      "être:1\n",
      "après:1\n",
      "avoir:1\n",
      "consulté:1\n",
      "notre:1\n",
      "site:1\n",
      "ou:1\n",
      "passé:1\n",
      "votre:1\n",
      "commande:1\n",
      "préférez:1\n",
      "ne:1\n",
      "plus:1\n",
      "recevoir:1\n",
      "ce:1\n",
      "type:1\n",
      "message:1\n",
      "veuillez:1\n",
      "désinscrire:1\n",
      "je:4\n",
      "ontvangt:1\n",
      "dit:1\n",
      "omdat:1\n",
      "het:2\n",
      "nuxg:1\n",
      "voor:1\n",
      "zou:1\n",
      "kunnen:1\n",
      "zijn:1\n",
      "na:1\n",
      "bezoek:1\n",
      "aan:1\n",
      "onze:1\n",
      "plaatsen:1\n",
      "van:1\n",
      "een:1\n",
      "bestelling:1\n",
      "wil:1\n",
      "toekomst:1\n",
      "geen:1\n",
      "soortgelijke:1\n",
      "berichten:1\n",
      "meer:1\n",
      "ontvangen:1\n",
      "afmelden:1\n",
      "du:3\n",
      "hast:1\n",
      "diese:1\n",
      "erhalten:2\n",
      "weil:1\n",
      "sie:1\n",
      "dir:1\n",
      "vielleicht:1\n",
      "im:1\n",
      "anschluss:1\n",
      "die:1\n",
      "suche:1\n",
      "auf:1\n",
      "unserer:1\n",
      "webseite:1\n",
      "oder:1\n",
      "einer:1\n",
      "bestellung:1\n",
      "bei:1\n",
      "uns:1\n",
      "nützlich:1\n",
      "sein:1\n",
      "kann:1\n",
      "wenn:1\n",
      "künftig:1\n",
      "lieber:1\n",
      "keine:1\n",
      "derartigen:1\n",
      "nachrichten:1\n",
      "möchtest:1\n",
      "kannst:1\n",
      "dich:1\n",
      "abmelden:1\n",
      "customer:1\n",
      "service:1\n",
      "box:1\n",
      "utrecht:1\n",
      "netherlands:1\n"
     ]
    }
   ],
   "source": [
    "freq = nltk.FreqDist(tokens)\n",
    "for key, val in freq.items():\n",
    "    print(f'{str(key)}:{str(val)}')"
   ],
   "metadata": {
    "collapsed": false
   }
  },
  {
   "cell_type": "code",
   "execution_count": 21,
   "outputs": [
    {
     "data": {
      "text/plain": "<Figure size 640x480 with 1 Axes>",
      "image/png": "[encoded data removed]"
     },
     "metadata": {},
     "output_type": "display_data"
    },
    {
     "data": {
      "text/plain": "<AxesSubplot: xlabel='Samples', ylabel='Counts'>"
     },
     "execution_count": 21,
     "metadata": {},
     "output_type": "execute_result"
    }
   ],
   "source": [
    "import matplotlib.pyplot as plt\n",
    "import seaborn as sns\n",
    "\n",
    "sns.set()\n",
    "freq.plot(30, cumulative=False)"
   ],
   "metadata": {
    "collapsed": false
   }
  },
  {
   "cell_type": "code",
   "execution_count": 22,
   "outputs": [
    {
     "data": {
      "text/plain": "['waiting',\n 'go',\n 'interrail',\n 'trip',\n 'view',\n 'browser',\n 'passes',\n 'offers',\n 'plan',\n 'trip',\n 'reservations',\n 'discover',\n 'europe',\n 'free',\n 'waiting',\n 'go',\n 'interrail',\n 'trip',\n 'always',\n 'dreamed',\n 'chance',\n 'discovereu',\n 'back',\n 'free',\n 'rail',\n 'passes',\n 'grabs',\n 'eu',\n 'initiative',\n 'gives',\n 'young',\n 'europeans',\n 'opportunity',\n 'discover',\n 'europe',\n 'learning',\n 'experiences',\n 'apply',\n 'answering',\n 'quiz',\n 'eu',\n 'well',\n 'subsidiary',\n 'question',\n 'selected',\n 'receive',\n 'travel',\n 'pass',\n 'valid',\n 'days',\n 'explore',\n 'europe',\n 'june',\n 'september',\n 'note',\n 'eligible',\n 'need',\n 'citizen',\n 'one',\n 'eu',\n 'member',\n 'states',\n 'iceland',\n 'liechtenstein',\n 'north',\n 'macedonia',\n 'norway',\n 'serbia',\n 'türkiye',\n 'legally',\n 'reside',\n 'one',\n 'countries',\n 'need',\n 'born',\n 'july',\n 'june',\n 'applications',\n 'open',\n 'wednesday',\n 'march',\n 'miss',\n 'visit',\n 'european',\n 'youth',\n 'portal',\n 'find',\n 'apply',\n 'received',\n 'email',\n 'think',\n 'might',\n 'use',\n 'browsing',\n 'website',\n 'placing',\n 'order',\n 'us',\n 'would',\n 'prefer',\n 'receive',\n 'similar',\n 'communications',\n 'future',\n 'please',\n 'unsubscribe',\n 'recibido',\n 'correo',\n 'electrónico',\n 'pensamos',\n 'puede',\n 'serte',\n 'útil',\n 'después',\n 'haber',\n 'navegado',\n 'página',\n 'web',\n 'haber',\n 'realizado',\n 'pedido',\n 'si',\n 'prefieres',\n 'recibir',\n 'comunicaciones',\n 'similares',\n 'futuro',\n 'cancela',\n 'suscripción',\n 'hai',\n 'ricevuto',\n 'questa',\n 'perché',\n 'riteniamo',\n 'che',\n 'potrebbe',\n 'esserti',\n 'utile',\n 'dopo',\n 'aver',\n 'visitato',\n 'il',\n 'nostro',\n 'sito',\n 'web',\n 'aver',\n 'effettuato',\n 'ordine',\n 'noi',\n 'non',\n 'vuoi',\n 'ricevere',\n 'comunicazioni',\n 'simili',\n 'futuro',\n 'annulla',\n 'l',\n 'iscrizione',\n 'vous',\n 'recevez',\n 'cet',\n 'parce',\n 'qu',\n 'il',\n 'pourrait',\n 'vous',\n 'être',\n 'utile',\n 'après',\n 'avoir',\n 'consulté',\n 'notre',\n 'site',\n 'web',\n 'ou',\n 'passé',\n 'votre',\n 'commande',\n 'si',\n 'vous',\n 'préférez',\n 'ne',\n 'plus',\n 'recevoir',\n 'ce',\n 'type',\n 'message',\n 'veuillez',\n 'vous',\n 'désinscrire',\n 'je',\n 'ontvangt',\n 'dit',\n 'omdat',\n 'het',\n 'nuxg',\n 'voor',\n 'je',\n 'zou',\n 'kunnen',\n 'zijn',\n 'na',\n 'je',\n 'bezoek',\n 'aan',\n 'onze',\n 'website',\n 'het',\n 'plaatsen',\n 'van',\n 'een',\n 'bestelling',\n 'wil',\n 'je',\n 'toekomst',\n 'geen',\n 'soortgelijke',\n 'berichten',\n 'meer',\n 'ontvangen',\n 'afmelden',\n 'hast',\n 'erhalten',\n 'vielleicht',\n 'anschluss',\n 'suche',\n 'unserer',\n 'webseite',\n 'bestellung',\n 'nützlich',\n 'künftig',\n 'lieber',\n 'derartigen',\n 'nachrichten',\n 'erhalten',\n 'möchtest',\n 'kannst',\n 'abmelden',\n 'view',\n 'browser',\n 'unsubscribe',\n 'view',\n 'browser',\n 'customer',\n 'service',\n 'box',\n 'utrecht',\n 'netherlands']"
     },
     "execution_count": 22,
     "metadata": {},
     "output_type": "execute_result"
    }
   ],
   "source": [
    "from nltk.corpus import stopwords\n",
    "stop_words_german = set(stopwords.words('german'))\n",
    "stop_words_english = set(stopwords.words('english'))\n",
    "stop_words_spanish = set(stopwords.words('spanish'))\n",
    "stop_words = [*stop_words_german, *stop_words_english, *stop_words_spanish]\n",
    "\n",
    "clean_tokens = tokens[:]\n",
    "\n",
    "for token in tokens:\n",
    "    if token in stop_words:\n",
    "        clean_tokens.remove(token)\n",
    "\n",
    "clean_tokens"
   ],
   "metadata": {
    "collapsed": false
   }
  },
  {
   "cell_type": "code",
   "execution_count": 23,
   "outputs": [
    {
     "data": {
      "text/plain": "<Figure size 640x480 with 1 Axes>",
      "image/png": "[encoded data removed]"
     },
     "metadata": {},
     "output_type": "display_data"
    },
    {
     "data": {
      "text/plain": "<AxesSubplot: xlabel='Samples', ylabel='Counts'>"
     },
     "execution_count": 23,
     "metadata": {},
     "output_type": "execute_result"
    }
   ],
   "source": [
    "freq = nltk.FreqDist(clean_tokens)\n",
    "\n",
    "sns.set()\n",
    "freq.plot(30, cumulative=False)"
   ],
   "metadata": {
    "collapsed": false
   }
  },
  {
   "cell_type": "code",
   "execution_count": 23,
   "outputs": [],
   "source": [],
   "metadata": {
    "collapsed": false
   }
  }
 ],
 "metadata": {
  "kernelspec": {
   "display_name": "Python 3",
   "language": "python",
   "name": "python3"
  },
  "language_info": {
   "codemirror_mode": {
    "name": "ipython",
    "version": 2
   },
   "file_extension": ".py",
   "mimetype": "text/x-python",
   "name": "python",
   "nbconvert_exporter": "python",
   "pygments_lexer": "ipython2",
   "version": "2.7.6"
  }
 },
 "nbformat": 4,
 "nbformat_minor": 0
}
