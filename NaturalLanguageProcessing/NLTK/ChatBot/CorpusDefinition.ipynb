{
 "cells": [
  {
   "cell_type": "code",
   "execution_count": 54,
   "outputs": [],
   "source": [
    "import nltk\n",
    "import random\n",
    "import numpy as np\n",
    "import string"
   ],
   "metadata": {
    "collapsed": false
   }
  },
  {
   "cell_type": "markdown",
   "source": [
    "## Corpus definition"
   ],
   "metadata": {
    "collapsed": false
   }
  },
  {
   "cell_type": "code",
   "execution_count": 55,
   "outputs": [
    {
     "data": {
      "text/plain": "'Para saber cómo vestir, la estación del año y la temperatura media de la zona marcan siempre la vestimenta más adecuada para los cruceros, aunque los cruceros tienden a ser cada vez más informales sobre todo durante el día.\\n\\nEl programa del día le indicará siempre la ropa más adecuada.\\n\\nRespecto al calzado, en tierra necesitarás zapatos cómodos para caminar, así como sombrero y protección solar (en verano).\\n\\nLas propinas son una norma generalizada, obligatorias, en todos los barcos de crucero, de hecho, forman parte del sueldo del personal y forman parte del llamado servicio.\\n\\nDependiendo de la naviera, para embarcar es conveniente llegar al embarque 3 o 4 horas antes de la hora de zarpar, normalmente los embarques suelen ser al mediodía y casi todas las compañías de cruceros ofrecen un buffet para comer.\\n\\nLa comida es un punto fuerte, los cruceros son una oportunidad única para poder degustar una amplia gama de alta calidad, con una diversidad de platos típicos de todas las partes del mundo, ya sea con sabor mediterráneo como al más propio estilo americano.\\n\\nLa reserva incluye el alojamiento en el barco en la categoría elegida, el transporte marítimo, todas las comidas, algunas bebidas sin alcohol (dependiendo del barco) y la mayoría del entretenimiento.\\n\\nPara pagar a bordo los gastos adicionales, estos serán cargados en una cuenta personal que se abrirá el día del embarque, excepto los gastos del casino y algunos otros especiales, de esta manera el pasajero no deberá llevar dinero encima.\\n\\nLa mayoría de buques ya disponen de internet como servicio.\\n\\nPuedes usar el teléfono móvil siempre que tengas cobertura suficiente para hacer llamadas, esto suele ser normalmente cuando el buque se encuentra en puerto o navegando cerca de la costa.\\n\\nLos itinerarios están hechos para que la navegación resulte lo más apacible posible, por lo que los lugares más visitados son de aguas tranquilas y por tanto el barco tiene poco movimiento.\\n\\nLos barcos de cruceros disponen de un servicio médico en caso de que se ponga enfermo, siendo los servicios médicos prestados son de pago, por lo que recomendamos utilizar un seguro médico.\\n\\nEstá prohibido fumar en los teatros, en los restaurantes y buffet de autoservicio (locales cerrados), en los corredores, pasillos, vestíbulos, antesalas e interiores de los ascensores y escaleras. En los salones se han previsto zonas reservadas para los fumadores. Pipas, cigarrillos y puros están permitidos sólo en algunos lugares dedicados a tal fin. \\n\\nActualmente los camarotes de los buques de crucero están diseñados para ofrecer el mayor confort a los pasajeros, pudiéndose encontrar en la mayoría de ellos cómo servicios privados con bañera o ducha, corriente eléctrica (110 o 220V), radio con varios canales, teléfono para comunicaciones entre cabinas o con el exterior, mueble tocador, cajas de seguridad (en cabina o en recepción), toallas, complementos de baño y tocador, etc.\\n\\nTodas las cabinas disponen de camas bajas o literas, según la ocupación del camarote.\\n\\nUn crucero no es sólo la navegación y las escalas, cada noche recibirá en su camarote el programa del día siguiente para que lo pueda planificar a su conveniencia con las actividades preparadas para el día siguiente, se detallan los horarios de todos los servicios y actividades a bordo, excursiones facultativas, etc.  \\n\\nSí, es posible con algunas compañías navieras desayunar en el camarote, quien desea su desayuno (café con leche, té, brioches, mermeladas, etc...) servido en el camarote puede rellenar la hoja de pedido que encontrará en el camarote y colocarla en la manilla externa de la puerta antes de ir a dormir. \\n\\nLa temperatura en los camarotes y en las suites se controla individualmente mediante un termostato.\\n\\nLas operaciones de desembarque en la actualidad son sencillas, únicamente deberás dejar listo tu equipaje la noche anterior al desembarque, a la hora que te indique el programa del día y dejar liquidados los gastos extras que hayas realizado durante el crucero.\\n\\nLos Cruceros son las vacaciones 10, muy cómodos y agradables. \\n\\nLos que tienen las visitas más interesantes, los Cruceros por Mediterráneo Oriental. \\n\\nLos más tranquilos, culturales y desbordantes de naturaleza, los Cruceros por el Norte de Europa. \\n\\nLos más animados y multinacionales, los Cruceros por el Caribe.\\n\\nNo se admiten mascotas a bordo.\\n\\nLos niños y jóvenes son especialmente bienvenidos a bordo y cuentan con multitud de actividades. \\n\\nSí, hay tiendas a bordo y vale la pena visitarlas, donde puedes encontrar perfumes, ropa, accesorios, cosméticos, joyas, relojes, recuerdos, etc.\\n\\nPor norma general, las embarazadas que lleguen a la 23ª semana de gestación antes de que termine el crucero, podrán realizarlo, siempre y cuando tengan un certificado firmado por el especialista que declare que están en condiciones de realizar el viaje (el número de semanas variará en función de la naviera).\\n\\nEstá prohibido transportar mercancías peligrosas, bebida y comida con procedencia del exterior, por lo que será recogido por el oficial de seguridad y entregado al pasajero al finalizar el desembarque.\\n\\nLos cruceros han sido y siguen siendo una gran alternativa para los viajes de novios por la gran cantidad de ventajas que ofrecen, es importante la sencillez de la reserva del crucero, ya que, además de elegir el crucero, no tenéis que preocuparos por nada.\\n\\nLa edad mínima de los bebés para viajar en un crucero es de 6 meses para todas las navieras, excepto alguna compañía especial que no hay edad mínima para el embarque.\\n'"
     },
     "execution_count": 55,
     "metadata": {},
     "output_type": "execute_result"
    }
   ],
   "source": [
    "file = open('corpusFiles/Corpus_crucero.txt')\n",
    "raw = file.read()\n",
    "raw"
   ],
   "metadata": {
    "collapsed": false
   }
  },
  {
   "cell_type": "markdown",
   "source": [
    "### Text Preprocessing"
   ],
   "metadata": {
    "collapsed": false
   }
  },
  {
   "cell_type": "code",
   "execution_count": 56,
   "outputs": [],
   "source": [
    "raw = raw.lower()\n",
    "\n",
    "sent_tokens = nltk.sent_tokenize(raw)  # we separate text in sentences/phrases\n",
    "word_tokens = nltk.word_tokenize(raw)  # separate text in single tokens\n",
    "lemmer = nltk.stem.WordNetLemmatizer()\n",
    "\n",
    "\n",
    "def lem_tokens(tokens):\n",
    "    return [lemmer.lemmatize(token) for token in tokens]\n",
    "\n",
    "\n",
    "remove_punct_dict = dict((ord(punct), None) for punct in string.punctuation)\n",
    "\n",
    "def lem_normalize(text):\n",
    "    return lem_tokens(nltk.word_tokenize(text.lower().translate(remove_punct_dict)))"
   ],
   "metadata": {
    "collapsed": false
   }
  },
  {
   "cell_type": "markdown",
   "source": [
    "## now we are going to evaluate the similarity of the user message"
   ],
   "metadata": {
    "collapsed": false
   }
  },
  {
   "cell_type": "code",
   "execution_count": 57,
   "outputs": [],
   "source": [
    "from sklearn.feature_extraction.text import TfidfVectorizer\n",
    "from sklearn.metrics.pairwise import cosine_similarity\n",
    "from nltk.corpus import stopwords\n",
    "\n",
    "\n",
    "def response(user_response: str):\n",
    "    sent_tokens.append(user_response)  ## we add to corpus the final user response\n",
    "\n",
    "    t_fiz_vect = TfidfVectorizer(tokenizer=lem_normalize, stop_words=stopwords.words('spanish'))\n",
    "    t_fiz_vect = t_fiz_vect.fit_transform(sent_tokens)\n",
    "\n",
    "    #now we evaluate the similarity between user message (t_fiz_vect[:-1]) and the corpus(t_fiz_vec)\n",
    "    vals = cosine_similarity(t_fiz_vect[-1], t_fiz_vect)\n",
    "    idx = vals.argsort()[0][-2]\n",
    "\n",
    "    flat = vals.flatten()\n",
    "    flat.sort()\n",
    "    req_tfidf = flat[-2]\n",
    "\n",
    "    if req_tfidf == 0:\n",
    "        return 'I`m sorry, I dont understand you. If I can`t answer your question contact with the page team'\n",
    "\n",
    "    return sent_tokens[idx]"
   ],
   "metadata": {
    "collapsed": false
   }
  },
  {
   "cell_type": "markdown",
   "source": [
    "## manual coincidences definition"
   ],
   "metadata": {
    "collapsed": false
   }
  },
  {
   "cell_type": "code",
   "execution_count": 58,
   "outputs": [],
   "source": [
    "greetings_inputs = ('hola', 'buenas', 'saludos', 'qué tal', 'hey', 'buenos dias')\n",
    "greetings_responses = ['hola', 'buenas', 'saludos', 'qué tal', 'hey', 'buenos dias', 'Cómo puedo ayudarte?',\n",
    "                       'hola encantado de atenderte']\n",
    "\n",
    "\n",
    "def greetings(sentence):\n",
    "    for word in sentence.split():\n",
    "        if word.lower() in greetings_inputs:\n",
    "            return random.choice(greetings_responses)"
   ],
   "metadata": {
    "collapsed": false
   }
  },
  {
   "cell_type": "markdown",
   "source": [
    "### Manual response generation"
   ],
   "metadata": {
    "collapsed": false
   }
  },
  {
   "cell_type": "code",
   "execution_count": 61,
   "outputs": [
    {
     "name": "stdout",
     "output_type": "stream",
     "text": [
      "Hi, im robot, in what i can help you?\n",
      "hola\n",
      "qué tal\n",
      "que tal\n",
      "Robot:pipas, cigarrillos y puros están permitidos sólo en algunos lugares dedicados a tal fin.\n",
      "1 32\n",
      "tengo un problema gordo, he roto el barco\n",
      "Robot:la reserva incluye el alojamiento en el barco en la categoría elegida, el transporte marítimo, todas las comidas, algunas bebidas sin alcohol (dependiendo del barco) y la mayoría del entretenimiento.\n",
      "1 32\n",
      "la he liado muchisimo\n",
      "Robot:I`m sorry, I dont understand you. If I can`t answer your question contact with the page team\n",
      "1 32\n",
      "salir\n"
     ]
    }
   ],
   "source": [
    "print('Hi, im robot, in what i can help you?')\n",
    "\n",
    "while True:\n",
    "    user_response = input().lower()\n",
    "    print(user_response)\n",
    "\n",
    "    if user_response == 'salir':\n",
    "        break\n",
    "\n",
    "    greeting = greetings(user_response)\n",
    "\n",
    "    if greeting is not None:\n",
    "        print(greeting)\n",
    "        continue\n",
    "\n",
    "    print('Robot:', end='')\n",
    "    print(response(user_response))\n",
    "    sent_tokens.remove(user_response)"
   ],
   "metadata": {
    "collapsed": false
   }
  },
  {
   "cell_type": "code",
   "execution_count": 59,
   "outputs": [],
   "source": [],
   "metadata": {
    "collapsed": false
   }
  }
 ],
 "metadata": {
  "kernelspec": {
   "display_name": "Python 3",
   "language": "python",
   "name": "python3"
  },
  "language_info": {
   "codemirror_mode": {
    "name": "ipython",
    "version": 2
   },
   "file_extension": ".py",
   "mimetype": "text/x-python",
   "name": "python",
   "nbconvert_exporter": "python",
   "pygments_lexer": "ipython2",
   "version": "2.7.6"
  }
 },
 "nbformat": 4,
 "nbformat_minor": 0
}
