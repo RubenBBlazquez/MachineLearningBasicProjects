{
 "cells": [
  {
   "cell_type": "code",
   "execution_count": 3,
   "metadata": {
    "collapsed": true
   },
   "outputs": [],
   "source": [
    "import speech_recognition as sr"
   ]
  },
  {
   "cell_type": "markdown",
   "source": [
    "### Now we create the recognition instance\n"
   ],
   "metadata": {
    "collapsed": false
   }
  },
  {
   "cell_type": "code",
   "execution_count": 4,
   "outputs": [],
   "source": [
    "recognizer = sr.Recognizer()"
   ],
   "metadata": {
    "collapsed": false
   }
  },
  {
   "cell_type": "markdown",
   "source": [
    "### Now we select an audio\n"
   ],
   "metadata": {
    "collapsed": false
   }
  },
  {
   "cell_type": "code",
   "execution_count": 5,
   "outputs": [],
   "source": [
    "mic = sr.Microphone()"
   ],
   "metadata": {
    "collapsed": false
   }
  },
  {
   "cell_type": "code",
   "execution_count": 6,
   "outputs": [
    {
     "data": {
      "text/plain": "['Microsoft Sound Mapper - Input',\n 'Microphone Array (IntelÂ® Smart ',\n 'Microsoft Sound Mapper - Output',\n '27G2WG3- (NVIDIA High Definitio',\n 'Speakers (Realtek(R) Audio)',\n 'Controlador primario de captura de sonido',\n 'Microphone Array (IntelÂ® Smart Sound Technology for Digital Microphones)',\n 'Controlador primario de sonido',\n '27G2WG3- (NVIDIA High Definition Audio)',\n 'Speakers (Realtek(R) Audio)',\n '27G2WG3- (NVIDIA High Definition Audio)',\n 'Speakers (Realtek(R) Audio)',\n 'Microphone Array (IntelÂ® Smart Sound Technology for Digital Microphones)',\n 'Microphone Array 1 ()',\n 'Microphone Array 2 ()',\n 'Microphone Array 3 ()',\n 'Microphone Array 4 ()',\n 'Speakers (Nahimic mirroring Wave Speaker)',\n 'Speakers (Realtek HD Audio output with SST)',\n 'Microphone (Realtek HD Audio Mic input)',\n 'Headphones (Realtek HD Audio 2nd output with SST)',\n 'Stereo Mix (Realtek HD Audio Stereo input)',\n 'Output (NVIDIA High Definition Audio)',\n 'Headphones ()',\n 'Speakers (Nahimic Easy Surround)',\n 'Headset (@System32\\\\drivers\\\\bthhfenum.sys,#2;%1 Hands-Free AG Audio%0\\r\\n;(FreeBuds 3))',\n 'Headset (@System32\\\\drivers\\\\bthhfenum.sys,#2;%1 Hands-Free AG Audio%0\\r\\n;(FreeBuds 3))']"
     },
     "execution_count": 6,
     "metadata": {},
     "output_type": "execute_result"
    }
   ],
   "source": [
    "sr.Microphone.list_microphone_names()"
   ],
   "metadata": {
    "collapsed": false
   }
  },
  {
   "cell_type": "code",
   "execution_count": 24,
   "outputs": [],
   "source": [
    "mic = sr.Microphone(device_index=1)"
   ],
   "metadata": {
    "collapsed": false
   }
  },
  {
   "cell_type": "code",
   "execution_count": 30,
   "outputs": [],
   "source": [
    "with mic as source: ## this method will be listening our mic till it detect silence\n",
    "    recognizer.adjust_for_ambient_noise(source)\n",
    "    audio = recognizer.listen(source)"
   ],
   "metadata": {
    "collapsed": false
   }
  },
  {
   "cell_type": "code",
   "execution_count": 31,
   "outputs": [
    {
     "data": {
      "text/plain": "'hola hola hola hola'"
     },
     "execution_count": 31,
     "metadata": {},
     "output_type": "execute_result"
    }
   ],
   "source": [
    "recognizer.recognize_google(audio, language='es-ES') # we use the google api to recognize the audio obtained before"
   ],
   "metadata": {
    "collapsed": false
   }
  },
  {
   "cell_type": "code",
   "execution_count": null,
   "outputs": [],
   "source": [],
   "metadata": {
    "collapsed": false
   }
  }
 ],
 "metadata": {
  "kernelspec": {
   "display_name": "Python 3",
   "language": "python",
   "name": "python3"
  },
  "language_info": {
   "codemirror_mode": {
    "name": "ipython",
    "version": 2
   },
   "file_extension": ".py",
   "mimetype": "text/x-python",
   "name": "python",
   "nbconvert_exporter": "python",
   "pygments_lexer": "ipython2",
   "version": "2.7.6"
  }
 },
 "nbformat": 4,
 "nbformat_minor": 0
}
